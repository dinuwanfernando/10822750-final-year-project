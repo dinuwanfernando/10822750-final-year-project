{
  "nbformat": 4,
  "nbformat_minor": 0,
  "metadata": {
    "colab": {
      "provenance": [],
      "authorship_tag": "ABX9TyNkzjg8Ay4//yWxOT20sxXq",
      "include_colab_link": true
    },
    "kernelspec": {
      "name": "python3",
      "display_name": "Python 3"
    },
    "language_info": {
      "name": "python"
    }
  },
  "cells": [
    {
      "cell_type": "markdown",
      "metadata": {
        "id": "view-in-github",
        "colab_type": "text"
      },
      "source": [
        "<a href=\"https://colab.research.google.com/github/dinuwanfernando/10822750-final-year-project/blob/main/loan_prediction_test2.ipynb\" target=\"_parent\"><img src=\"https://colab.research.google.com/assets/colab-badge.svg\" alt=\"Open In Colab\"/></a>"
      ]
    },
    {
      "cell_type": "code",
      "execution_count": 1,
      "metadata": {
        "id": "0MqvfW6hx2Pv",
        "outputId": "bc9db5e8-c70c-4301-d284-54ecd2ee9728",
        "colab": {
          "base_uri": "https://localhost:8080/"
        }
      },
      "outputs": [
        {
          "output_type": "stream",
          "name": "stdout",
          "text": [
            "Requirement already satisfied: prophet in /usr/local/lib/python3.10/dist-packages (1.1.5)\n",
            "Requirement already satisfied: cmdstanpy>=1.0.4 in /usr/local/lib/python3.10/dist-packages (from prophet) (1.2.2)\n",
            "Requirement already satisfied: numpy>=1.15.4 in /usr/local/lib/python3.10/dist-packages (from prophet) (1.25.2)\n",
            "Requirement already satisfied: matplotlib>=2.0.0 in /usr/local/lib/python3.10/dist-packages (from prophet) (3.7.1)\n",
            "Requirement already satisfied: pandas>=1.0.4 in /usr/local/lib/python3.10/dist-packages (from prophet) (2.0.3)\n",
            "Requirement already satisfied: holidays>=0.25 in /usr/local/lib/python3.10/dist-packages (from prophet) (0.47)\n",
            "Requirement already satisfied: tqdm>=4.36.1 in /usr/local/lib/python3.10/dist-packages (from prophet) (4.66.2)\n",
            "Requirement already satisfied: importlib-resources in /usr/local/lib/python3.10/dist-packages (from prophet) (6.4.0)\n",
            "Requirement already satisfied: stanio<2.0.0,>=0.4.0 in /usr/local/lib/python3.10/dist-packages (from cmdstanpy>=1.0.4->prophet) (0.5.0)\n",
            "Requirement already satisfied: python-dateutil in /usr/local/lib/python3.10/dist-packages (from holidays>=0.25->prophet) (2.8.2)\n",
            "Requirement already satisfied: contourpy>=1.0.1 in /usr/local/lib/python3.10/dist-packages (from matplotlib>=2.0.0->prophet) (1.2.1)\n",
            "Requirement already satisfied: cycler>=0.10 in /usr/local/lib/python3.10/dist-packages (from matplotlib>=2.0.0->prophet) (0.12.1)\n",
            "Requirement already satisfied: fonttools>=4.22.0 in /usr/local/lib/python3.10/dist-packages (from matplotlib>=2.0.0->prophet) (4.51.0)\n",
            "Requirement already satisfied: kiwisolver>=1.0.1 in /usr/local/lib/python3.10/dist-packages (from matplotlib>=2.0.0->prophet) (1.4.5)\n",
            "Requirement already satisfied: packaging>=20.0 in /usr/local/lib/python3.10/dist-packages (from matplotlib>=2.0.0->prophet) (24.0)\n",
            "Requirement already satisfied: pillow>=6.2.0 in /usr/local/lib/python3.10/dist-packages (from matplotlib>=2.0.0->prophet) (9.4.0)\n",
            "Requirement already satisfied: pyparsing>=2.3.1 in /usr/local/lib/python3.10/dist-packages (from matplotlib>=2.0.0->prophet) (3.1.2)\n",
            "Requirement already satisfied: pytz>=2020.1 in /usr/local/lib/python3.10/dist-packages (from pandas>=1.0.4->prophet) (2023.4)\n",
            "Requirement already satisfied: tzdata>=2022.1 in /usr/local/lib/python3.10/dist-packages (from pandas>=1.0.4->prophet) (2024.1)\n",
            "Requirement already satisfied: six>=1.5 in /usr/local/lib/python3.10/dist-packages (from python-dateutil->holidays>=0.25->prophet) (1.16.0)\n"
          ]
        }
      ],
      "source": [
        "#Importing libraries\n",
        "import pandas as pd\n",
        "import numpy as np\n",
        "import math\n",
        "import datetime\n",
        "from datetime import datetime\n",
        "import seaborn as sns\n",
        "import xgboost as xgb\n",
        "from statsmodels.tsa.arima.model import ARIMA\n",
        "from statsmodels.tsa.statespace.varmax import VARMAX\n",
        "from statsmodels.tsa.api import VAR\n",
        "from sklearn.metrics import mean_squared_error, mean_absolute_error\n",
        "from sklearn.model_selection import GridSearchCV\n",
        "from math import sqrt\n",
        "import matplotlib.pyplot as plt\n",
        "!pip install prophet\n",
        "from prophet import Prophet"
      ]
    },
    {
      "cell_type": "code",
      "source": [
        "df= pd.read_csv('/content/train.csv')\n",
        "print(df)"
      ],
      "metadata": {
        "id": "X4V6LR96bgss",
        "outputId": "d22c4acd-4c71-4a17-cbbb-8302a59e529c",
        "colab": {
          "base_uri": "https://localhost:8080/"
        }
      },
      "execution_count": 2,
      "outputs": [
        {
          "output_type": "stream",
          "name": "stdout",
          "text": [
            "      Loan_ID  Gender Married Dependents     Education Self_Employed  \\\n",
            "0    LP001002    Male      No          0      Graduate            No   \n",
            "1    LP001003    Male     Yes          1      Graduate            No   \n",
            "2    LP001005    Male     Yes          0      Graduate           Yes   \n",
            "3    LP001006    Male     Yes          0  Not Graduate            No   \n",
            "4    LP001008    Male      No          0      Graduate            No   \n",
            "..        ...     ...     ...        ...           ...           ...   \n",
            "609  LP002978  Female      No          0      Graduate            No   \n",
            "610  LP002979    Male     Yes         3+      Graduate            No   \n",
            "611  LP002983    Male     Yes          1      Graduate            No   \n",
            "612  LP002984    Male     Yes          2      Graduate            No   \n",
            "613  LP002990  Female      No          0      Graduate           Yes   \n",
            "\n",
            "     ApplicantIncome  CoapplicantIncome  LoanAmount  Loan_Amount_Term  \\\n",
            "0               5849                0.0         NaN             360.0   \n",
            "1               4583             1508.0       128.0             360.0   \n",
            "2               3000                0.0        66.0             360.0   \n",
            "3               2583             2358.0       120.0             360.0   \n",
            "4               6000                0.0       141.0             360.0   \n",
            "..               ...                ...         ...               ...   \n",
            "609             2900                0.0        71.0             360.0   \n",
            "610             4106                0.0        40.0             180.0   \n",
            "611             8072              240.0       253.0             360.0   \n",
            "612             7583                0.0       187.0             360.0   \n",
            "613             4583                0.0       133.0             360.0   \n",
            "\n",
            "     Credit_History Property_Area Loan_Status  \n",
            "0               1.0         Urban           Y  \n",
            "1               1.0         Rural           N  \n",
            "2               1.0         Urban           Y  \n",
            "3               1.0         Urban           Y  \n",
            "4               1.0         Urban           Y  \n",
            "..              ...           ...         ...  \n",
            "609             1.0         Rural           Y  \n",
            "610             1.0         Rural           Y  \n",
            "611             1.0         Urban           Y  \n",
            "612             1.0         Urban           Y  \n",
            "613             0.0     Semiurban           N  \n",
            "\n",
            "[614 rows x 13 columns]\n"
          ]
        }
      ]
    },
    {
      "cell_type": "code",
      "source": [
        "df_v1= df.drop(['Loan_ID','Gender'], axis=1)\n",
        "df_v1= df_v1.dropna()\n",
        "print(df_v1)"
      ],
      "metadata": {
        "id": "U1UY_NoqbjwP",
        "outputId": "35020e83-e55b-49ab-ad6f-2372dd0c1719",
        "colab": {
          "base_uri": "https://localhost:8080/"
        }
      },
      "execution_count": 3,
      "outputs": [
        {
          "output_type": "stream",
          "name": "stdout",
          "text": [
            "    Married Dependents     Education Self_Employed  ApplicantIncome  \\\n",
            "1       Yes          1      Graduate            No             4583   \n",
            "2       Yes          0      Graduate           Yes             3000   \n",
            "3       Yes          0  Not Graduate            No             2583   \n",
            "4        No          0      Graduate            No             6000   \n",
            "5       Yes          2      Graduate           Yes             5417   \n",
            "..      ...        ...           ...           ...              ...   \n",
            "609      No          0      Graduate            No             2900   \n",
            "610     Yes         3+      Graduate            No             4106   \n",
            "611     Yes          1      Graduate            No             8072   \n",
            "612     Yes          2      Graduate            No             7583   \n",
            "613      No          0      Graduate           Yes             4583   \n",
            "\n",
            "     CoapplicantIncome  LoanAmount  Loan_Amount_Term  Credit_History  \\\n",
            "1               1508.0       128.0             360.0             1.0   \n",
            "2                  0.0        66.0             360.0             1.0   \n",
            "3               2358.0       120.0             360.0             1.0   \n",
            "4                  0.0       141.0             360.0             1.0   \n",
            "5               4196.0       267.0             360.0             1.0   \n",
            "..                 ...         ...               ...             ...   \n",
            "609                0.0        71.0             360.0             1.0   \n",
            "610                0.0        40.0             180.0             1.0   \n",
            "611              240.0       253.0             360.0             1.0   \n",
            "612                0.0       187.0             360.0             1.0   \n",
            "613                0.0       133.0             360.0             0.0   \n",
            "\n",
            "    Property_Area Loan_Status  \n",
            "1           Rural           N  \n",
            "2           Urban           Y  \n",
            "3           Urban           Y  \n",
            "4           Urban           Y  \n",
            "5           Urban           Y  \n",
            "..            ...         ...  \n",
            "609         Rural           Y  \n",
            "610         Rural           Y  \n",
            "611         Urban           Y  \n",
            "612         Urban           Y  \n",
            "613     Semiurban           N  \n",
            "\n",
            "[492 rows x 11 columns]\n"
          ]
        }
      ]
    },
    {
      "cell_type": "code",
      "source": [
        "num_variations_dep= df_v1['Dependents'].unique()\n",
        "print(num_variations_dep)\n",
        "num_variations_edu= df_v1['Education'].unique()\n",
        "print(num_variations_edu)\n",
        "num_variations_self= df_v1['Self_Employed'].unique()\n",
        "print(num_variations_self)\n",
        "num_variations_prop= df_v1['Property_Area'].unique()\n",
        "print(num_variations_prop)\n",
        "num_variations_cred= df_v1['Credit_History'].unique()\n",
        "print(num_variations_cred)"
      ],
      "metadata": {
        "id": "A1lKpCpSbqaL",
        "outputId": "9e51ae20-e60b-4560-a8be-8dc228cf6e35",
        "colab": {
          "base_uri": "https://localhost:8080/"
        }
      },
      "execution_count": 4,
      "outputs": [
        {
          "output_type": "stream",
          "name": "stdout",
          "text": [
            "['1' '0' '2' '3+']\n",
            "['Graduate' 'Not Graduate']\n",
            "['No' 'Yes']\n",
            "['Rural' 'Urban' 'Semiurban']\n",
            "[1. 0.]\n"
          ]
        }
      ]
    },
    {
      "cell_type": "code",
      "source": [
        "#removing the text values\n",
        "def map_to_binary(value):\n",
        "  return 1 if value == 'Yes' else 0"
      ],
      "metadata": {
        "id": "iovHOyjzbtiP"
      },
      "execution_count": 5,
      "outputs": []
    },
    {
      "cell_type": "code",
      "source": [
        "# #import the dataset\n",
        "# data = pd.read_csv('train.csv')"
      ],
      "metadata": {
        "id": "K6BbopcRzHps"
      },
      "execution_count": 6,
      "outputs": []
    },
    {
      "cell_type": "code",
      "source": [
        "# #2. Checking the data set\n",
        "# data.head()"
      ],
      "metadata": {
        "id": "F2g-T7r_zSl5"
      },
      "execution_count": 7,
      "outputs": []
    },
    {
      "cell_type": "code",
      "source": [
        "# data.tail()"
      ],
      "metadata": {
        "id": "t-tA0PpP23uQ"
      },
      "execution_count": 8,
      "outputs": []
    },
    {
      "cell_type": "code",
      "source": [
        "# #3. Find the number of rows and columns in the dataset\n",
        "# data.shape\n",
        "# print(\"Number of Rows\",data.shape[0])\n",
        "# print(\"Number of Columns\",data.shape[1])"
      ],
      "metadata": {
        "id": "C4E_wV4j3UE7"
      },
      "execution_count": 9,
      "outputs": []
    },
    {
      "cell_type": "code",
      "source": [
        "# #4. Breakdown of the dataset\n",
        "# data.info()"
      ],
      "metadata": {
        "id": "eWXLat5e3zdT"
      },
      "execution_count": 10,
      "outputs": []
    },
    {
      "cell_type": "code",
      "source": [
        "# #5. Check for null values in the dataset\n",
        "# data.isnull().sum()"
      ],
      "metadata": {
        "id": "RIO923_K4ARa"
      },
      "execution_count": 11,
      "outputs": []
    },
    {
      "cell_type": "code",
      "source": [
        "# data.isnull().sum()*100 / len(data)"
      ],
      "metadata": {
        "id": "sXBrCjBA4bXD"
      },
      "execution_count": 12,
      "outputs": []
    },
    {
      "cell_type": "code",
      "source": [
        "# #6. Handling the missing values in the dataset\n",
        "# data = data.drop('Loan_ID',axis=1)"
      ],
      "metadata": {
        "id": "QoC-mG2a4ehS"
      },
      "execution_count": 13,
      "outputs": []
    },
    {
      "cell_type": "code",
      "source": [
        "# data.head(1)"
      ],
      "metadata": {
        "id": "k1XMzxwxC0jJ"
      },
      "execution_count": 14,
      "outputs": []
    },
    {
      "cell_type": "code",
      "source": [
        "# columns = ['Gender','Dependents','LoanAmount','Loan_Amount_Term']\n",
        "# data = data.dropna(subset=columns)"
      ],
      "metadata": {
        "id": "MzlaxzqGIlnU"
      },
      "execution_count": 15,
      "outputs": []
    },
    {
      "cell_type": "code",
      "source": [
        "# data.isnull().sum()*100 / len(data)"
      ],
      "metadata": {
        "id": "xFCRJIwnImYL"
      },
      "execution_count": 16,
      "outputs": []
    },
    {
      "cell_type": "code",
      "source": [
        "# data['Self_Employed'].mode()[0]"
      ],
      "metadata": {
        "id": "o0vCfHvVe6Gb"
      },
      "execution_count": 17,
      "outputs": []
    },
    {
      "cell_type": "code",
      "source": [
        "# data['Self_Employed'] =data['Self_Employed'].fillna(data['Self_Employed'].mode()[0])"
      ],
      "metadata": {
        "id": "Sh61x9lQe-hc"
      },
      "execution_count": 18,
      "outputs": []
    },
    {
      "cell_type": "code",
      "source": [
        "# data.isnull().sum()*100 / len(data)"
      ],
      "metadata": {
        "id": "KfLm5PF5fAlE"
      },
      "execution_count": 19,
      "outputs": []
    },
    {
      "cell_type": "code",
      "source": [
        "# data['Gender'].unique()"
      ],
      "metadata": {
        "id": "aNiP7lcBfI_h"
      },
      "execution_count": 20,
      "outputs": []
    },
    {
      "cell_type": "code",
      "source": [
        "# data['Self_Employed'].unique()"
      ],
      "metadata": {
        "id": "9bu091ZJfJwD"
      },
      "execution_count": 21,
      "outputs": []
    },
    {
      "cell_type": "code",
      "source": [
        "# data['Credit_History'].mode()[0]"
      ],
      "metadata": {
        "id": "kRwUoWFJfLxm"
      },
      "execution_count": 22,
      "outputs": []
    },
    {
      "cell_type": "code",
      "source": [
        "# data['Credit_History'] =data['Credit_History'].fillna(data['Credit_History'].mode()[0])"
      ],
      "metadata": {
        "id": "p7Kc5uiEfPXn"
      },
      "execution_count": 23,
      "outputs": []
    },
    {
      "cell_type": "code",
      "source": [
        "# data.isnull().sum()*100 / len(data)"
      ],
      "metadata": {
        "id": "1BrT15enf4EL"
      },
      "execution_count": 24,
      "outputs": []
    },
    {
      "cell_type": "code",
      "source": [
        "# 7. Handling Categorical Columns"
      ],
      "metadata": {
        "id": "1ZMbu6ev2cMo"
      },
      "execution_count": 25,
      "outputs": []
    },
    {
      "cell_type": "code",
      "source": [
        "# data.sample(5)"
      ],
      "metadata": {
        "id": "EIr9vSxO2kJJ"
      },
      "execution_count": 26,
      "outputs": []
    },
    {
      "cell_type": "code",
      "source": [
        "# data['Dependents'] =data['Dependents'].replace(to_replace=\"3+\",value='4')"
      ],
      "metadata": {
        "id": "_WyrgkQa2maH"
      },
      "execution_count": 27,
      "outputs": []
    },
    {
      "cell_type": "code",
      "source": [
        "# data['Dependents'].unique()"
      ],
      "metadata": {
        "id": "Vx2rtOY02oL_"
      },
      "execution_count": 28,
      "outputs": []
    },
    {
      "cell_type": "code",
      "source": [
        "# data['Loan_Status'].unique()"
      ],
      "metadata": {
        "id": "U-mulJPn2p9H"
      },
      "execution_count": 29,
      "outputs": []
    },
    {
      "cell_type": "code",
      "source": [
        "# data['Gender'] = data['Gender'].map({'Male':1,'Female':0}).astype('int')\n",
        "# data['Married'] = data['Married'].map({'Yes':1,'No':0}).astype('int')\n",
        "# data['Education'] = data['Education'].map({'Graduate':1,'Not Graduate':0}).astype('int')\n",
        "# data['Self_Employed'] = data['Self_Employed'].map({'Yes':1,'No':0}).astype('int')\n",
        "# data['Property_Area'] = data['Property_Area'].map({'Rural':0,'Semiurban':2,'Urban':1}).astype('int')\n",
        "# data['Loan_Status'] = data['Loan_Status'].map({'Y':1,'N':0}).astype('int')"
      ],
      "metadata": {
        "id": "QJG7nRo82r_X"
      },
      "execution_count": 30,
      "outputs": []
    },
    {
      "cell_type": "code",
      "source": [
        "# data.head()"
      ],
      "metadata": {
        "id": "baI4zABH2t7A"
      },
      "execution_count": 31,
      "outputs": []
    },
    {
      "cell_type": "code",
      "source": [
        "#8. Separating the features and target variable into x & y"
      ],
      "metadata": {
        "id": "vmI0KHxg6D2Q"
      },
      "execution_count": 32,
      "outputs": []
    },
    {
      "cell_type": "code",
      "source": [
        "# X = data.drop('Loan_Status',axis=1)"
      ],
      "metadata": {
        "id": "2tGl6WV6E9xZ"
      },
      "execution_count": 33,
      "outputs": []
    },
    {
      "cell_type": "code",
      "source": [
        "# y = data['Loan_Status']"
      ],
      "metadata": {
        "id": "Pj0GAhCeE_3I"
      },
      "execution_count": 34,
      "outputs": []
    },
    {
      "cell_type": "code",
      "source": [
        "# y"
      ],
      "metadata": {
        "id": "FGqPqYNYFBS-"
      },
      "execution_count": 35,
      "outputs": []
    },
    {
      "cell_type": "code",
      "source": [
        "# 9. Feature Scaling"
      ],
      "metadata": {
        "id": "dpG__KETKlqg"
      },
      "execution_count": 36,
      "outputs": []
    },
    {
      "cell_type": "code",
      "source": [
        "# data.head()"
      ],
      "metadata": {
        "id": "PPoXsdIsKokt"
      },
      "execution_count": 37,
      "outputs": []
    },
    {
      "cell_type": "code",
      "source": [
        "# cols = ['ApplicantIncome','CoapplicantIncome','LoanAmount','Loan_Amount_Term']"
      ],
      "metadata": {
        "id": "3vsAavOTKqEN"
      },
      "execution_count": 38,
      "outputs": []
    },
    {
      "cell_type": "code",
      "source": [
        "# from sklearn.preprocessing import StandardScaler\n",
        "# st = StandardScaler()\n",
        "# X[cols]=st.fit_transform(X[cols])"
      ],
      "metadata": {
        "id": "BKWFwyJjKr5r"
      },
      "execution_count": 39,
      "outputs": []
    },
    {
      "cell_type": "code",
      "source": [
        "# X"
      ],
      "metadata": {
        "id": "HhS8yNXxKtd3"
      },
      "execution_count": 40,
      "outputs": []
    },
    {
      "cell_type": "code",
      "source": [
        "#10. Performance of Different Machine Learning Models + Dividing the dataset into Test and Train sets + applying K-fold Cross Validation"
      ],
      "metadata": {
        "id": "zaxpRDTeebq9"
      },
      "execution_count": 41,
      "outputs": []
    },
    {
      "cell_type": "code",
      "source": [
        "# #libraries\n",
        "# from sklearn.model_selection import train_test_split\n",
        "# from sklearn.model_selection import cross_val_score\n",
        "# from sklearn.metrics import accuracy_score\n",
        "# import numpy as np"
      ],
      "metadata": {
        "id": "RFY8Mn4UgFnF"
      },
      "execution_count": 42,
      "outputs": []
    },
    {
      "cell_type": "code",
      "source": [
        "# model_df={}\n",
        "# def model_val(model,X,y):\n",
        "#     X_train,X_test,y_train,y_test=train_test_split(X,y,\n",
        "#                                                    test_size=0.20,\n",
        "#                                                    random_state=42)\n",
        "#     model.fit(X_train,y_train)\n",
        "#     y_pred=model.predict(X_test)\n",
        "#     print(f\"{model} accuracy is {accuracy_score(y_test,y_pred)}\")\n",
        "\n",
        "#     score = cross_val_score(model,X,y,cv=5)\n",
        "#     print(f\"{model} Avg cross val score is {np.mean(score)}\")\n",
        "#     model_df[model]=round(np.mean(score)*100,2)"
      ],
      "metadata": {
        "id": "4ONJlPLBgJua"
      },
      "execution_count": 43,
      "outputs": []
    },
    {
      "cell_type": "code",
      "source": [
        "# #Logistic Regression model\n",
        "# from sklearn.linear_model import LogisticRegression\n",
        "# model = LogisticRegression()\n",
        "# model_val(model,X,y)"
      ],
      "metadata": {
        "id": "U4SAFHgniCuq"
      },
      "execution_count": 44,
      "outputs": []
    },
    {
      "cell_type": "code",
      "source": [
        "# #SVC model\n",
        "# from sklearn import svm\n",
        "# model = svm.SVC()\n",
        "# model_val(model,X,y)"
      ],
      "metadata": {
        "id": "DUppJo79kT3L"
      },
      "execution_count": 45,
      "outputs": []
    },
    {
      "cell_type": "code",
      "source": [
        "# #Decision Tree Classifier model\n",
        "# from sklearn.tree import DecisionTreeClassifier\n",
        "# model = DecisionTreeClassifier()\n",
        "# model_val(model,X,y)"
      ],
      "metadata": {
        "id": "73MC60NPkgKF"
      },
      "execution_count": 46,
      "outputs": []
    },
    {
      "cell_type": "code",
      "source": [
        "# #Random Forest Classifier model\n",
        "# from sklearn.ensemble import RandomForestClassifier\n",
        "# model =RandomForestClassifier()\n",
        "# model_val(model,X,y)"
      ],
      "metadata": {
        "id": "wCnRTxcckj_L"
      },
      "execution_count": 47,
      "outputs": []
    },
    {
      "cell_type": "code",
      "source": [
        "# #Gradient Boosting Classifier model\n",
        "# from sklearn.ensemble import GradientBoostingClassifier\n",
        "# model =GradientBoostingClassifier()\n",
        "# model_val(model,X,y)"
      ],
      "metadata": {
        "id": "rOvhp8Qakp3y"
      },
      "execution_count": 48,
      "outputs": []
    },
    {
      "cell_type": "code",
      "source": [
        "# #Average Cross Validation of each model as a percentage is evaluated and stored in \"model_df\" dictionary\n",
        "# model_df"
      ],
      "metadata": {
        "id": "lA2RZpv7nHFc"
      },
      "execution_count": 49,
      "outputs": []
    },
    {
      "cell_type": "code",
      "source": [
        "# 11. Hyperparameter Tuning"
      ],
      "metadata": {
        "id": "Ud4zBScgViv7"
      },
      "execution_count": 50,
      "outputs": []
    },
    {
      "cell_type": "code",
      "source": [
        "# from sklearn.model_selection import RandomizedSearchCV"
      ],
      "metadata": {
        "id": "M8Pw_0DhV08M"
      },
      "execution_count": 51,
      "outputs": []
    },
    {
      "cell_type": "code",
      "source": [
        "# #Logistic Regression Tuning\n",
        "# log_reg_grid={\"C\":np.logspace(-4,4,20),\n",
        "#              \"solver\":['liblinear']}"
      ],
      "metadata": {
        "id": "0z3ebx79WPME"
      },
      "execution_count": 52,
      "outputs": []
    },
    {
      "cell_type": "code",
      "source": [
        "# rs_log_reg=RandomizedSearchCV(LogisticRegression(),\n",
        "#                    param_distributions=log_reg_grid,\n",
        "#                   n_iter=20,cv=5,verbose=True)"
      ],
      "metadata": {
        "id": "nh7wp36Wi7TV"
      },
      "execution_count": 53,
      "outputs": []
    },
    {
      "cell_type": "code",
      "source": [
        "# rs_log_reg.fit(X,y)"
      ],
      "metadata": {
        "id": "GJxROG1Ai8dz"
      },
      "execution_count": 54,
      "outputs": []
    },
    {
      "cell_type": "code",
      "source": [
        "# rs_log_reg.best_score_"
      ],
      "metadata": {
        "id": "PhlA6OLZjD-b"
      },
      "execution_count": 55,
      "outputs": []
    },
    {
      "cell_type": "code",
      "source": [
        "# rs_log_reg.best_params_"
      ],
      "metadata": {
        "id": "FaE1f50jjJOI"
      },
      "execution_count": 56,
      "outputs": []
    },
    {
      "cell_type": "code",
      "source": [
        "# #SVC Tuning\n",
        "# svc_grid = {'C':[0.25,0.50,0.75,1],\"kernel\":[\"linear\"]}"
      ],
      "metadata": {
        "id": "pS3dqThmWR77"
      },
      "execution_count": 57,
      "outputs": []
    },
    {
      "cell_type": "code",
      "source": [
        "# rs_svc=RandomizedSearchCV(svm.SVC(),\n",
        "#                   param_distributions=svc_grid,\n",
        "#                    cv=5,\n",
        "#                    n_iter=20,\n",
        "#                   verbose=True)"
      ],
      "metadata": {
        "id": "cyR1V2X-jXQq"
      },
      "execution_count": 58,
      "outputs": []
    },
    {
      "cell_type": "code",
      "source": [
        "# rs_svc.fit(X,y)"
      ],
      "metadata": {
        "id": "8zPFFIgojZyx"
      },
      "execution_count": 59,
      "outputs": []
    },
    {
      "cell_type": "code",
      "source": [
        "# rs_svc.best_score_"
      ],
      "metadata": {
        "id": "ajqxi12pjgQk"
      },
      "execution_count": 60,
      "outputs": []
    },
    {
      "cell_type": "code",
      "source": [
        "# rs_svc.best_params_"
      ],
      "metadata": {
        "id": "IKqNJqZSjiXG"
      },
      "execution_count": 61,
      "outputs": []
    },
    {
      "cell_type": "code",
      "source": [
        "# #Random Forest Classifier Tuning\n",
        "# RandomForestClassifier()\n",
        "\n",
        "# rf_grid={'n_estimators':np.arange(10,1000,10),\n",
        "#   'max_features':['auto','sqrt'],\n",
        "#  'max_depth':[None,3,5,10,20,30],\n",
        "#  'min_samples_split':[2,5,20,50,100],\n",
        "#  'min_samples_leaf':[1,2,5,10]\n",
        "#  }"
      ],
      "metadata": {
        "id": "VpsFBKQFWTvr"
      },
      "execution_count": 62,
      "outputs": []
    },
    {
      "cell_type": "code",
      "source": [
        "# rs_rf=RandomizedSearchCV(RandomForestClassifier(),\n",
        "#                   param_distributions=rf_grid,\n",
        "#                    cv=5,\n",
        "#                    n_iter=20,\n",
        "#                   verbose=True)"
      ],
      "metadata": {
        "id": "srgy0c3FjxcF"
      },
      "execution_count": 63,
      "outputs": []
    },
    {
      "cell_type": "code",
      "source": [
        "# rs_rf.fit(X,y)"
      ],
      "metadata": {
        "id": "ri4rtdylj1wU"
      },
      "execution_count": 64,
      "outputs": []
    },
    {
      "cell_type": "code",
      "source": [
        "# rs_rf.best_score_"
      ],
      "metadata": {
        "id": "6kRsu25uj3_d"
      },
      "execution_count": 65,
      "outputs": []
    },
    {
      "cell_type": "code",
      "source": [
        "# rs_rf.best_params_"
      ],
      "metadata": {
        "id": "1cdF-Iutj6ZR"
      },
      "execution_count": 66,
      "outputs": []
    },
    {
      "cell_type": "markdown",
      "source": [
        "#Saving The Model"
      ],
      "metadata": {
        "id": "XeOPZfN2UxMd"
      }
    },
    {
      "cell_type": "code",
      "source": [
        "# X = data.drop('Loan_Status',axis=1)\n",
        "# y = data['Loan_Status']"
      ],
      "metadata": {
        "id": "YSQNZOdLUuku"
      },
      "execution_count": 67,
      "outputs": []
    },
    {
      "cell_type": "code",
      "source": [
        "# rf = RandomForestClassifier(n_estimators=270,\n",
        "#  min_samples_split=5,\n",
        "#  min_samples_leaf=5,\n",
        "#  max_features='sqrt',\n",
        "#  max_depth=5)"
      ],
      "metadata": {
        "id": "b_zu9PdBU3TF"
      },
      "execution_count": 68,
      "outputs": []
    },
    {
      "cell_type": "code",
      "source": [
        "# rf.fit(X,y)"
      ],
      "metadata": {
        "id": "atlemVn1U4rt"
      },
      "execution_count": 69,
      "outputs": []
    },
    {
      "cell_type": "code",
      "source": [
        "# import joblib"
      ],
      "metadata": {
        "id": "1B5EjzpNU6k9"
      },
      "execution_count": 70,
      "outputs": []
    },
    {
      "cell_type": "code",
      "source": [
        "# joblib.dump(rf,'loan_status_predict')"
      ],
      "metadata": {
        "id": "7s70eDtUU9V1"
      },
      "execution_count": 71,
      "outputs": []
    },
    {
      "cell_type": "code",
      "source": [
        "# model = joblib.load('loan_status_predict')"
      ],
      "metadata": {
        "id": "MquP6QjTU_RO"
      },
      "execution_count": 72,
      "outputs": []
    },
    {
      "cell_type": "code",
      "source": [
        "# data = {\n",
        "#     'Gender': [1],\n",
        "#     'Married': [0],\n",
        "#     'Dependents': [2],\n",
        "#     'Education': [1],\n",
        "#     'Self_Employed': [0],\n",
        "#     'ApplicantIncome': [4923],\n",
        "#     'CoapplicantIncome': [0.0],\n",
        "#     'LoanAmount': [166],\n",
        "#     'Loan_Amount_Term': [360],\n",
        "#     'Credit_History': [0],\n",
        "#     'Property_Area': [1]\n",
        "# }"
      ],
      "metadata": {
        "id": "oKUymOApLWnG"
      },
      "execution_count": 73,
      "outputs": []
    },
    {
      "cell_type": "code",
      "source": [
        "# df = pd.DataFrame(data)"
      ],
      "metadata": {
        "id": "4Tt6iaJGLabO"
      },
      "execution_count": 74,
      "outputs": []
    },
    {
      "cell_type": "code",
      "source": [
        "# df"
      ],
      "metadata": {
        "id": "laiN8fQKVCzu"
      },
      "execution_count": 75,
      "outputs": []
    },
    {
      "cell_type": "code",
      "source": [
        "# model.predict(df)"
      ],
      "metadata": {
        "id": "qGVRvZFZng-q"
      },
      "execution_count": 76,
      "outputs": []
    },
    {
      "cell_type": "code",
      "source": [
        "# result = model.predict(df)"
      ],
      "metadata": {
        "id": "BgKirtYdVF29"
      },
      "execution_count": 77,
      "outputs": []
    },
    {
      "cell_type": "code",
      "source": [
        "# if result==1:\n",
        "#     print(\"Loan Approved\")\n",
        "# else:\n",
        "#     print(\"Loan Not Approved\")"
      ],
      "metadata": {
        "id": "H64_evMjVHbF"
      },
      "execution_count": 78,
      "outputs": []
    }
  ]
}